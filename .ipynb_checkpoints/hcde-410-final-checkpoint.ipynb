{
 "cells": [
  {
   "cell_type": "markdown",
   "id": "e98e56a9-0744-4fcb-8014-dcd9765a3be2",
   "metadata": {},
   "source": [
    "# Preliminary Proposal\n",
    "## Motivation\n",
    "Since middle school, like other young children, I have spent a lot of time on Youtube watching various makeup videos from tutorials to reviews and everything in between. With the world of makeup being so expansive and widespread, makeup users only continue to diversify. In more recent years, there has been a huge demand for inclusive shade ranges from the palest shades to the deepest. Yet, many makeup brands still fail to keep up with this demand. As such, I want to do an analysis as to which brands have diversified their shade ranges as well as discover motivations behind these changes. In addition, I aim to research and collect data as to users' opinions and thoughts on these ranges. Feedback I received from my peers was to see how the popularity of these products might differ across countries which is something I have added to my project. \n",
    "\n",
    "## Research Questions\n",
    "RQ1: How do the shade ranges differ across different countries' best sellers? (i.e. Does the best selling product in Nigeria have more dark shades and does Japan have more light shades?)\n",
    "\n",
    "RQ2: For US best sellers, which products have the most inclusive shade ranges? \n",
    "\n",
    "RQ3: How do the shade ranges of these products from 2018 compare to their ranges now? \n",
    "\n",
    "## Methodology\n",
    "RQ1: In my dataset, lightness of a shade has been extracted using Adobe Photoshop. I will categorize the shades of one product and compare the number of shades in each lightness category across the bestsellers from the US, Japan, Nigeria, and India. For this questions I will produce a table to compare those lightness values and attempt to visualize the shades alongside them.\n",
    "\n",
    "RQ2: For this, I will use the lightness categories once more and compute an inclusivity score which will take into account the diversity of ranges as well as number of shades. Then, since I do not have data on specific sales, I will find the maximum number of reviews on the web for the US best sellers (could be on Sephora, Ulta, Target, etc.). Lastly I will run a t test to see if the relationship between the inclusivity score and number of reviews is statistically significant. \n",
    "\n",
    "RQ3: For this question I will have to conduct research outside of the dataset to find out how many shades there are now for each product. I feel that producing a bar chart to compare the number of shades from 2018 to now (2022) will be a good representation such that the difference in shades, or lack thereof will be evident.\n",
    "\n",
    "## Related Work\n",
    "An article titled Beauty Brawl on the Pudding which can be found [here] (https://pudding.cool/2018/06/makeup-shades/) uses the same dataset and does a similar analysis. They used Fenty Beauty's foundation range as a standard to compare other products to, I think this is because at the time, the product was brand new and their shade range was one of the largest. They also used a lightness scale which will be extremely helpful in comparing shades using some kind of metric. They have found that US bestsellers have the largest range compared to other countries and that Fenty was their winner. I want to be able to mimic the way in which this article visualizes the shades as they do a great job of showing the distinction between lightness levels. I will build off this study specifically with RQ3 as this data is from 2018 and I feel that showing how these ranges have changed in 4 years will give us insight as to how the makeup industry has evolved in terms of inclusivity. \n",
    "\n",
    "## Data\n",
    "The dataset I have chosen to use comes from Kaggle titled \"Makeup Shades Dataset\". The dataset can be found [here](https://www.kaggle.com/datasets/shivamb/makeup-shades-dataset?datasetId=1735543). This dataset contains information on popular brands, their shade ranges using hex colors, US best sellers, brands with POC and non POC founders, and a few other countries' best sellers. Their license is from the creative commons and belongs to the public domain. This dataset is suitable because it contains many popular brands used in the makeup world today and their most popular products. This means it will be representative of what the general public has access to. Using the hex colors I hope to be able to come up with some data visualizations as well. My only concern is that this dataset is from 2018 which means it might not be as current with shade ranges but I should be able to do further research to be able to include what these ranges appear to be currently.\n",
    "\n",
    "## Unknowns and Dependencies\n",
    "I decided to switch my project to be less coding heavy. After our ethnography, I feel I'm much more suited to conducting research in that way and I'll be able to discover human motivations rather than relying on my somewhat shaky coding skills. I wish to do a lot of research on this topic in addition to working with this dataset which I fear may be more time consuming than I am able but I will definitely try my best!\n"
   ]
  }
 ],
 "metadata": {
  "kernelspec": {
   "display_name": "Python 3 (ipykernel)",
   "language": "python",
   "name": "python3"
  },
  "language_info": {
   "codemirror_mode": {
    "name": "ipython",
    "version": 3
   },
   "file_extension": ".py",
   "mimetype": "text/x-python",
   "name": "python",
   "nbconvert_exporter": "python",
   "pygments_lexer": "ipython3",
   "version": "3.9.7"
  }
 },
 "nbformat": 4,
 "nbformat_minor": 5
}
